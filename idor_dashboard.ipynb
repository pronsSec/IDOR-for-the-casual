{
  "nbformat": 4,
  "nbformat_minor": 0,
  "metadata": {
    "colab": {
      "name": "idor_dashboard.ipynb",
      "provenance": [],
      "collapsed_sections": [],
      "authorship_tag": "ABX9TyNy++c8w7SfVX2MAyHmGcta",
      "include_colab_link": true
    },
    "kernelspec": {
      "name": "python3",
      "display_name": "Python 3"
    },
    "language_info": {
      "name": "python"
    }
  },
  "cells": [
    {
      "cell_type": "markdown",
      "metadata": {
        "id": "view-in-github",
        "colab_type": "text"
      },
      "source": [
        "<a href=\"https://colab.research.google.com/github/pronsSec/IDOR-for-the-casual/blob/main/idor_dashboard.ipynb\" target=\"_parent\"><img src=\"https://colab.research.google.com/assets/colab-badge.svg\" alt=\"Open In Colab\"/></a>"
      ]
    },
    {
      "cell_type": "markdown",
      "source": [
        "![images.jpg](data:image/jpeg;base64,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)\n",
        "\n",
        "# You ever just wanna idor some stuff ? (Only http responses in csv for now , will be updated when cdata check is added)"
      ],
      "metadata": {
        "id": "-koG1YXCENvC"
      }
    },
    {
      "cell_type": "code",
      "execution_count": null,
      "metadata": {
        "id": "XHzm1oSg70m3",
        "cellView": "form"
      },
      "outputs": [],
      "source": [
        "import requests\n",
        "import pandas as pd \n",
        "import seaborn as sns\n",
        "import numpy as np\n",
        "import matplotlib.pyplot as plt\n",
        "\n",
        "\n",
        "#@title For now there are two fuzzing points and two url insertion points. \n",
        "#@markdown Schema: url_1 + fuzz_starting_number + url_2\n",
        "\n",
        "\n",
        "#@markdown Use the Slider to Choose How Many Iterations and then press the Play button to the left. Press again to stop it..STOP BEFORE CONTINUING. Include all necessary characers in your inputs and the fuzz variables are integer input only. Think of it as putting together blocks.\n",
        "\n",
        "\n",
        "\n",
        "\n",
        "\n",
        "# a list of discovered subdomains\n",
        "discovered_subdomains = []\n",
        "status_codes = []\n",
        "\n",
        "\n",
        "#form variables\n",
        "url_1 = '' #@param {type: \"string\"}\n",
        "url_2 = '' #@param {type: \"string\"}\n",
        "how_many_iterations = 100 #@param {type: \"slider\", min: 100, max: 1000000}\n",
        "#@markdown Choose Starting Input\n",
        "fuzz_starting_number = 1 #@param {type: \"integer\"}\n",
        "  #fuzz_location_and_starting_num_2 = #@param {type: \"integer\"}\n",
        "counter = 1\n",
        "\n",
        "\n",
        "\n",
        "while counter <= how_many_iterations:\n",
        "\n",
        "\n",
        "\n",
        "  #change fuzz_location_and_starting_num_2 to string bc I don't like to do it inline\n",
        "  #fuzz_location_and_starting_num_2_str = str(fuzz_location_and_starting_num_2)\n",
        "  fuzz_starting_number_str = str(fuzz_starting_number)\n",
        "\n",
        "  # construct the url\n",
        "  url = url_1 + fuzz_starting_number_str + url_2\n",
        "  \n",
        "  callin_get = requests.get(url, allow_redirects=True, timeout=10)\n",
        "  try:\n",
        "      # if this raises an ERROR, that means the subdomain does not exist\n",
        "       \n",
        "    callin_get\n",
        "    \n",
        "  \n",
        " \n",
        "      \n",
        "      # append the discovered subdomain to our list\n",
        "      #if (callin_get.status_code != 400) and (callin_get.status_code != 404):\n",
        "    print(url + ' ' + str(callin_get.status_code))\n",
        "    \n",
        "    discovered_subdomains.append(url)\n",
        "    status_codes.append(callin_get.status_code)\n",
        "    fuzz_starting_number += 1\n",
        "    counter += 1          \n",
        "    \n",
        "  \n",
        "  except requests.ConnectionError:\n",
        "      # if the subdomain does not exist, just pass, print nothing        \n",
        "    pass\n",
        "  "
      ]
    },
    {
      "cell_type": "code",
      "source": [
        "#@title Wanna See? { display-mode: \"form\" }\n",
        "#@markdown Just Press Play\n",
        "\n",
        "#loading and showing pandas dataframe\n",
        "\n",
        "df = pd.DataFrame (list(zip(discovered_subdomains, status_codes)), columns = ['URL', 'Status Code'])\n",
        "df.head(100)"
      ],
      "metadata": {
        "id": "Odr4yzukDboB"
      },
      "execution_count": null,
      "outputs": []
    },
    {
      "cell_type": "code",
      "source": [
        "#@title Wanna See a Barplot that counts by status code ? { display-mode: \"form\" }\n",
        "\n",
        "\n",
        "sns.countplot(data=df, x='Status Code')"
      ],
      "metadata": {
        "id": "kUJFd3nlHMEu"
      },
      "execution_count": null,
      "outputs": []
    },
    {
      "cell_type": "code",
      "source": [
        "#@title Input the name you would like your downloaded .csv file to have. Press play after. { display-mode: \"form\" }\n",
        "\n",
        "name = 'Insert Name Here' #@param {type: \"string\"}\n",
        "name2 = name + '.csv'\n",
        "df.to_csv(name2)\n",
        "from google.colab import files\n",
        "files.download(name2)"
      ],
      "metadata": {
        "id": "gWNkk9d4gG4j"
      },
      "execution_count": null,
      "outputs": []
    }
  ]
}